{
  "cells": [
    {
      "cell_type": "code",
      "execution_count": null,
      "metadata": {
        "id": "Ggtghl6aYjqk"
      },
      "outputs": [],
      "source": [
        "import pandas as pd\n",
        "import matplotlib.pyplot as plt\n",
        "import seaborn as sns\n",
        "from scipy import stats"
      ]
    },
    {
      "cell_type": "code",
      "execution_count": null,
      "metadata": {
        "id": "hQ7ljTiOY_tM"
      },
      "outputs": [],
      "source": [
        "data = pd.read_excel('/content/drive/MyDrive/Colab Notebooks/Innomatics/EDA Project/data.xlsx')"
      ]
    },
    {
      "cell_type": "code",
      "execution_count": null,
      "metadata": {
        "colab": {
          "base_uri": "https://localhost:8080/",
          "height": 394
        },
        "id": "UAOC225kZLwz",
        "outputId": "d3268797-064b-417e-beac-bdc1c16181a3"
      },
      "outputs": [],
      "source": [
        "data.head(5)"
      ]
    },
    {
      "cell_type": "code",
      "execution_count": null,
      "metadata": {
        "colab": {
          "base_uri": "https://localhost:8080/",
          "height": 446
        },
        "id": "s9q0uMFrZbcD",
        "outputId": "3137dceb-0879-4b1d-b16d-5f5de21d2f4a"
      },
      "outputs": [],
      "source": [
        "data.tail(5)"
      ]
    },
    {
      "cell_type": "code",
      "execution_count": null,
      "metadata": {
        "colab": {
          "base_uri": "https://localhost:8080/"
        },
        "id": "2mnCrk_ZZNCO",
        "outputId": "f58d7bd2-ce9c-45aa-82a1-a1ae21dd9c57"
      },
      "outputs": [],
      "source": [
        "data.shape"
      ]
    },
    {
      "cell_type": "code",
      "execution_count": null,
      "metadata": {
        "colab": {
          "base_uri": "https://localhost:8080/"
        },
        "id": "BvqrpB9Vesi3",
        "outputId": "ad8413e8-b18c-4827-95e4-73adf6853b52"
      },
      "outputs": [],
      "source": [
        "data.isnull().sum()"
      ]
    },
    {
      "cell_type": "code",
      "execution_count": null,
      "metadata": {
        "colab": {
          "base_uri": "https://localhost:8080/"
        },
        "id": "FicguP4Ih6cF",
        "outputId": "5aed2619-18b1-47f7-efe4-688cb1f6c285"
      },
      "outputs": [],
      "source": [
        "data.duplicated().sum()"
      ]
    },
    {
      "cell_type": "code",
      "execution_count": null,
      "metadata": {
        "colab": {
          "base_uri": "https://localhost:8080/"
        },
        "id": "jYxiEf-sZSog",
        "outputId": "e937b552-3d08-4bc5-e14a-cc4df4984903"
      },
      "outputs": [],
      "source": [
        "data.dtypes"
      ]
    },
    {
      "cell_type": "code",
      "execution_count": null,
      "metadata": {
        "id": "RGOvP05YOnay"
      },
      "outputs": [],
      "source": [
        "data.drop(columns=['Unnamed: 0', 'ID', 'CollegeID', 'CollegeCityID'], inplace=True)"
      ]
    },
    {
      "cell_type": "markdown",
      "metadata": {
        "id": "NpUtL-l-ZiBd"
      },
      "source": [
        "##**Univariate Analysis**"
      ]
    },
    {
      "cell_type": "code",
      "execution_count": null,
      "metadata": {
        "colab": {
          "base_uri": "https://localhost:8080/"
        },
        "id": "T4Ex7XY9ZRra",
        "outputId": "f32360a0-f1cd-4aec-df92-30b278f069bd"
      },
      "outputs": [],
      "source": [
        "# Select numerical columns\n",
        "numerical_cols = data.select_dtypes(include=['int64', 'float64']).columns\n",
        "numerical_cols"
      ]
    },
    {
      "cell_type": "code",
      "execution_count": null,
      "metadata": {
        "colab": {
          "base_uri": "https://localhost:8080/",
          "height": 349
        },
        "id": "aoziohdTZouU",
        "outputId": "44191878-e794-4a72-9584-c97b5eb60b48"
      },
      "outputs": [],
      "source": [
        "data[numerical_cols].describe()"
      ]
    },
    {
      "cell_type": "code",
      "execution_count": null,
      "metadata": {
        "colab": {
          "base_uri": "https://localhost:8080/",
          "height": 130
        },
        "id": "yKcuNBHqPQhs",
        "outputId": "0bab6eaa-4396-4021-b1cb-9b9fcba2ad86"
      },
      "outputs": [],
      "source": [
        "data[numerical_cols].mode()"
      ]
    },
    {
      "cell_type": "code",
      "execution_count": null,
      "metadata": {
        "colab": {
          "base_uri": "https://localhost:8080/"
        },
        "id": "gyPHL0LiQaMi",
        "outputId": "12d638cb-832f-4803-eb6d-c011b0a7f4ea"
      },
      "outputs": [],
      "source": [
        "data[numerical_cols].max() - data[numerical_cols].min()"
      ]
    },
    {
      "cell_type": "code",
      "execution_count": null,
      "metadata": {
        "colab": {
          "base_uri": "https://localhost:8080/"
        },
        "id": "Tx-6e88nQFH5",
        "outputId": "0903fb67-978b-4fb0-dd75-039140b7dd48"
      },
      "outputs": [],
      "source": [
        "data[numerical_cols].skew()"
      ]
    },
    {
      "cell_type": "code",
      "execution_count": null,
      "metadata": {
        "colab": {
          "base_uri": "https://localhost:8080/"
        },
        "id": "SEFnxFIxQLin",
        "outputId": "70809885-8f6b-4ad3-a833-90bc3c213405"
      },
      "outputs": [],
      "source": [
        "data[numerical_cols].kurtosis()"
      ]
    },
    {
      "cell_type": "code",
      "execution_count": null,
      "metadata": {
        "colab": {
          "base_uri": "https://localhost:8080/",
          "height": 1000
        },
        "id": "6oKg7NAhnEUy",
        "outputId": "813c0788-6e9d-4676-c085-899aba42d85d"
      },
      "outputs": [],
      "source": [
        "# Create subplots for each numerical column with PDFs, histograms, and boxplots\n",
        "fig, axs = plt.subplots(len(numerical_cols), 3, figsize=(15, len(numerical_cols) * 5))\n",
        "\n",
        "for i, col in enumerate(numerical_cols):\n",
        "    # Histogram\n",
        "    sns.histplot(data[col], kde=False, ax=axs[i][0])\n",
        "    axs[i][0].set_title(f'Histogram of {col}')\n",
        "    axs[i][0].set_xlabel(col)\n",
        "    axs[i][0].set_ylabel('Frequency')\n",
        "\n",
        "    # PDF\n",
        "    sns.histplot(data[col], kde=True, ax=axs[i][1])\n",
        "    axs[i][1].set_title(f'PDF of {col}')\n",
        "    axs[i][1].set_xlabel(col)\n",
        "    axs[i][1].set_ylabel('Density')\n",
        "\n",
        "    # Boxplot\n",
        "    sns.boxplot(data[col], ax=axs[i][2])\n",
        "    axs[i][2].set_title(f'Boxplot of {col}')\n",
        "    axs[i][2].set_xlabel(col)\n",
        "    axs[i][2].set_ylabel('')\n",
        "\n",
        "plt.tight_layout()\n",
        "plt.show()"
      ]
    },
    {
      "cell_type": "code",
      "execution_count": null,
      "metadata": {
        "colab": {
          "base_uri": "https://localhost:8080/",
          "height": 1000
        },
        "id": "-n0wtj0GRixW",
        "outputId": "45002e7c-a2cb-44d9-9130-cf5f04f361ef"
      },
      "outputs": [],
      "source": [
        "# Create subplots for QQ plots and ECDF plots of numerical columns\n",
        "fig, axs = plt.subplots(len(numerical_cols), 2, figsize=(15, len(numerical_cols) * 5))\n",
        "\n",
        "for i, col in enumerate(numerical_cols):\n",
        "    # QQ Plot\n",
        "    stats.probplot(data[col], dist=\"norm\", plot=axs[i][0])\n",
        "    axs[i][0].set_title(f'QQ Plot of {col}')\n",
        "    axs[i][0].set_xlabel('Theoretical Quantiles')\n",
        "    axs[i][0].set_ylabel('Ordered Values')\n",
        "\n",
        "    # ECDF Plot\n",
        "    sorted_values = data[col].sort_values()\n",
        "    ecdf = pd.Series(range(1, len(sorted_values) + 1), index=sorted_values) / len(sorted_values)\n",
        "    axs[i][1].plot(ecdf.index, ecdf, marker='.', linestyle='none')\n",
        "    axs[i][1].set_title(f'ECDF of {col}')\n",
        "    axs[i][1].set_xlabel(col)\n",
        "    axs[i][1].set_ylabel('ECDF')\n",
        "\n",
        "plt.tight_layout()\n",
        "plt.show()"
      ]
    },
    {
      "cell_type": "code",
      "execution_count": null,
      "metadata": {
        "id": "v-Ja9IBVnXYj"
      },
      "outputs": [],
      "source": [
        "# Outliers detection using IQR method\n",
        "for col in numerical_cols:\n",
        "    Q1 = data[col].quantile(0.25)\n",
        "    Q3 = data[col].quantile(0.75)\n",
        "    IQR = Q3 - Q1\n",
        "    lower_bound = Q1 - 1.5 * IQR\n",
        "    upper_bound = Q3 + 1.5 * IQR\n",
        "\n",
        "    outliers = data[(data[col] < lower_bound) | (data[col] > upper_bound)]"
      ]
    },
    {
      "cell_type": "code",
      "execution_count": null,
      "metadata": {
        "colab": {
          "base_uri": "https://localhost:8080/"
        },
        "id": "a_ZKvVD6rqz2",
        "outputId": "ee9fc1bc-5590-4233-ce3a-b84ed42ec8b6"
      },
      "outputs": [],
      "source": [
        "outliers.shape[0]"
      ]
    },
    {
      "cell_type": "code",
      "execution_count": null,
      "metadata": {
        "colab": {
          "base_uri": "https://localhost:8080/",
          "height": 738
        },
        "id": "B1Bq8UsdraIz",
        "outputId": "434fde0d-1656-4072-d71b-7b7853c75689"
      },
      "outputs": [],
      "source": [
        "outliers"
      ]
    },
    {
      "cell_type": "code",
      "execution_count": null,
      "metadata": {
        "colab": {
          "base_uri": "https://localhost:8080/"
        },
        "id": "6Ky6tvlLTE-T",
        "outputId": "bb324440-62c5-4bf6-82fb-d36f1e9f373d"
      },
      "outputs": [],
      "source": [
        "fig, axs = plt.subplots(len(numerical_cols), 1, figsize=(10, len(numerical_cols) * 5))\n",
        "\n",
        "for i, col in enumerate(numerical_cols):\n",
        "    # Original Data\n",
        "    sns.histplot(data[col], kde=True, color='blue', ax=axs[i], label='Original Data')\n",
        "\n",
        "    # Remove outliers\n",
        "    z_scores = stats.zscore(data[col])\n",
        "    data_no_outliers = data[(z_scores < 3) & (z_scores > -3)]  # Adjust the threshold as needed\n",
        "\n",
        "    # Data without outliers\n",
        "    sns.histplot(data_no_outliers[col], kde=True, color='orange', ax=axs[i], label='Data without Outliers')\n",
        "\n",
        "    axs[i].set_title(f'Distribution of {col} (with and without outliers)')\n",
        "    axs[i].set_xlabel(col)\n",
        "    axs[i].set_ylabel('Density')\n",
        "    axs[i].legend()\n",
        "\n",
        "plt.tight_layout()\n",
        "plt.show()"
      ]
    },
    {
      "cell_type": "code",
      "execution_count": null,
      "metadata": {
        "colab": {
          "base_uri": "https://localhost:8080/"
        },
        "id": "KSh7cHdDv0tX",
        "outputId": "a8159f90-e298-4aac-c90e-dd1508a55459"
      },
      "outputs": [],
      "source": [
        "categorical_cols = data.select_dtypes(include=['object']).columns\n",
        "categorical_cols"
      ]
    },
    {
      "cell_type": "code",
      "execution_count": null,
      "metadata": {
        "colab": {
          "base_uri": "https://localhost:8080/",
          "height": 175
        },
        "id": "L7M-6URJUJXN",
        "outputId": "8713a892-0892-4a60-dae3-4c19372837ac"
      },
      "outputs": [],
      "source": [
        "data[categorical_cols].describe()"
      ]
    },
    {
      "cell_type": "code",
      "execution_count": null,
      "metadata": {
        "colab": {
          "base_uri": "https://localhost:8080/"
        },
        "id": "i-HBf83JUPPG",
        "outputId": "2095b339-71c3-4d7b-8805-3b36b7f7293e"
      },
      "outputs": [],
      "source": [
        "# Get unique values of each categorical column\n",
        "for col in categorical_cols:\n",
        "    unique_values = data[col].unique()\n",
        "    print(f'Unique values of column {col}: {unique_values}')"
      ]
    },
    {
      "cell_type": "code",
      "execution_count": null,
      "metadata": {
        "colab": {
          "base_uri": "https://localhost:8080/"
        },
        "id": "cpYsc4t4VCcn",
        "outputId": "2afea8c5-92f0-411e-a561-a643e76eec58"
      },
      "outputs": [],
      "source": [
        "# Get unique values and their counts for each categorical column\n",
        "for col in categorical_cols:\n",
        "    value_counts = data[col].value_counts()\n",
        "    print(f'Value counts of column {col}:\\n{value_counts}\\n')"
      ]
    },
    {
      "cell_type": "code",
      "execution_count": null,
      "metadata": {
        "colab": {
          "base_uri": "https://localhost:8080/",
          "height": 1000
        },
        "id": "m01PwH-6njUg",
        "outputId": "09be2f56-3f82-47ca-9459-2cf556fbe176"
      },
      "outputs": [],
      "source": [
        "# Create subplots for frequency distribution of categorical columns\n",
        "num_plots = len(categorical_cols)\n",
        "fig, axs = plt.subplots(num_plots, 1, figsize=(15, 35*num_plots))\n",
        "\n",
        "for i, col in enumerate(categorical_cols):\n",
        "    sns.countplot(data[col], ax=axs[i])\n",
        "    axs[i].set_title(f'Frequency distribution of {col}')\n",
        "    axs[i].set_xlabel(col)\n",
        "    axs[i].set_ylabel('Frequency')\n",
        "    axs[i].tick_params(axis='x', rotation=45)\n",
        "\n",
        "plt.tight_layout()\n",
        "plt.show()"
      ]
    },
    {
      "cell_type": "markdown",
      "metadata": {
        "id": "BwTHLozeVh4q"
      },
      "source": [
        "##**Bivariate Analysis**"
      ]
    },
    {
      "cell_type": "code",
      "execution_count": null,
      "metadata": {
        "colab": {
          "base_uri": "https://localhost:8080/",
          "height": 962
        },
        "id": "XaPDqo_DVlFP",
        "outputId": "85972a62-690e-4e38-a596-aa43445926a7"
      },
      "outputs": [],
      "source": [
        "# Calculate the Pearson correlation coefficient\n",
        "correlation_matrix = data[numerical_cols].corr(method='pearson')\n",
        "\n",
        "print(\"Pearson correlation coefficient for all numerical columns:\")\n",
        "correlation_matrix"
      ]
    },
    {
      "cell_type": "code",
      "execution_count": null,
      "metadata": {
        "colab": {
          "base_uri": "https://localhost:8080/",
          "height": 848
        },
        "id": "_T4qgDFqV70Y",
        "outputId": "7d5cfe38-aa81-40f9-bd77-b00e1dcfd9c0"
      },
      "outputs": [],
      "source": [
        "# Visualize pearson correlation matrix as a heatmap\n",
        "plt.figure(figsize=(15, 8))\n",
        "sns.heatmap(correlation_matrix, annot=True, cmap='viridis', fmt=\".2f\", linewidths=.5)\n",
        "plt.title('Pearson Correlation Coefficient Heatmap')\n",
        "plt.show()"
      ]
    },
    {
      "cell_type": "code",
      "execution_count": null,
      "metadata": {
        "colab": {
          "base_uri": "https://localhost:8080/",
          "height": 962
        },
        "id": "gdysKYnbM7Te",
        "outputId": "53aeae38-c749-46ab-c95e-33e4f5dc6c89"
      },
      "outputs": [],
      "source": [
        "# Calculate the Spearman Rank correlation coefficient\n",
        "spearman_correlation_matrix = data[numerical_cols].corr(method='spearman')\n",
        "\n",
        "print(\"Spearman Rank Correlation Coefficient for all numerical columns:\")\n",
        "spearman_correlation_matrix"
      ]
    },
    {
      "cell_type": "code",
      "execution_count": null,
      "metadata": {
        "colab": {
          "base_uri": "https://localhost:8080/",
          "height": 848
        },
        "id": "OAESaM3yNNwm",
        "outputId": "f46f2d7d-69be-4bdf-f44a-c3f4b92f4554"
      },
      "outputs": [],
      "source": [
        "# Visualize spearman rank correlation matrix as a heatmap\n",
        "plt.figure(figsize=(15, 8))\n",
        "sns.heatmap(spearman_correlation_matrix, annot=True, cmap='viridis', fmt=\".2f\", linewidths=.5)\n",
        "plt.title('Spearman Rank Correlation Coefficient Heatmap')\n",
        "plt.show()"
      ]
    },
    {
      "cell_type": "code",
      "execution_count": null,
      "metadata": {
        "colab": {
          "background_save": true
        },
        "id": "_q9J5olILSvt",
        "outputId": "8987b7d1-1516-47d7-a391-401a96d8c903"
      },
      "outputs": [],
      "source": [
        "# Bivariate Analysis - Relationships between numerical columns\n",
        "# Scatter plots\n",
        "sns.pairplot(data[numerical_cols])\n",
        "plt.suptitle('Pairplot of Numerical Columns', y=1.02)\n",
        "plt.show()"
      ]
    },
    {
      "cell_type": "code",
      "execution_count": null,
      "metadata": {
        "colab": {
          "base_uri": "https://localhost:8080/",
          "height": 1000
        },
        "id": "TQG1G08gN6r1",
        "outputId": "903dec02-8509-479b-c7a5-cd31b2d0baff"
      },
      "outputs": [],
      "source": [
        "# Scatter plots\n",
        "for col1 in numerical_cols:\n",
        "    for col2 in numerical_cols:\n",
        "        if col1 != col2:\n",
        "            plt.scatter(data[col1], data[col2], alpha=0.5)\n",
        "            plt.xlabel(col1)\n",
        "            plt.ylabel(col2)\n",
        "            plt.title(f'Scatter plot between {col1} and {col2}')\n",
        "            plt.show()"
      ]
    },
    {
      "cell_type": "code",
      "execution_count": null,
      "metadata": {
        "colab": {
          "base_uri": "https://localhost:8080/",
          "height": 1000
        },
        "id": "7_wIsa92LnBY",
        "outputId": "f277a0c0-910e-403e-e759-0b43af7a0625"
      },
      "outputs": [],
      "source": [
        "# Hexbin plots\n",
        "for col1 in numerical_cols:\n",
        "    for col2 in numerical_cols:\n",
        "        if col1 != col2:\n",
        "            plt.hexbin(data[col1], data[col2], gridsize=20)\n",
        "            plt.xlabel(col1)\n",
        "            plt.ylabel(col2)\n",
        "            plt.title(f'Hexbin plot between {col1} and {col2}')\n",
        "            plt.colorbar(label='count')\n",
        "            plt.show()"
      ]
    },
    {
      "cell_type": "code",
      "execution_count": null,
      "metadata": {
        "colab": {
          "base_uri": "https://localhost:8080/",
          "height": 1000
        },
        "id": "3mkpOY_CBwAu",
        "outputId": "fd97cd7f-3e0a-4398-cbc4-74d28d76bbb9"
      },
      "outputs": [],
      "source": [
        "# Stacked bar plots\n",
        "for cat_col1 in categorical_cols:\n",
        "    for cat_col2 in categorical_cols:\n",
        "        if cat_col1 != cat_col2:\n",
        "            # Create cross-tabulation\n",
        "            cross_tab = pd.crosstab(data[cat_col1], data[cat_col2])\n",
        "\n",
        "            # Plot stacked bar plot\n",
        "            cross_tab.plot(kind='bar', stacked=True, figsize=(30, 30))\n",
        "            plt.title(f'Stacked bar plot between {cat_col1} and {cat_col2}')\n",
        "            plt.xlabel(cat_col1)\n",
        "            plt.ylabel('Frequency')\n",
        "            plt.xticks(rotation=90)\n",
        "            plt.legend(title=cat_col2, loc='upper left', bbox_to_anchor=(1.05, 1))  # Move legend outside plot area\n",
        "            plt.show()"
      ]
    },
    {
      "cell_type": "code",
      "execution_count": null,
      "metadata": {
        "colab": {
          "background_save": true,
          "base_uri": "https://localhost:8080/",
          "height": 1000
        },
        "id": "7xmLh7s5Lqtg",
        "outputId": "34a00d0a-29b0-4580-9a61-535b882267e4"
      },
      "outputs": [],
      "source": [
        "# Bivariate Analysis - Patterns between categorical and numerical columns\n",
        "# Swarm plots\n",
        "for cat_col in categorical_cols:\n",
        "    for num_col in numerical_cols:\n",
        "        sns.swarmplot(x=cat_col, y=num_col, data=data)\n",
        "        plt.title(f'Swarm plot of {num_col} vs {cat_col}')\n",
        "        plt.xlabel(cat_col)\n",
        "        plt.ylabel(num_col)\n",
        "        plt.show()"
      ]
    },
    {
      "cell_type": "code",
      "execution_count": null,
      "metadata": {
        "colab": {
          "base_uri": "https://localhost:8080/",
          "height": 1000
        },
        "id": "l7_Vad3zLrfx",
        "outputId": "3c38a1c0-a148-4836-f2f5-1e12e911c7f3"
      },
      "outputs": [],
      "source": [
        "# Box plots\n",
        "for cat_col in categorical_cols:\n",
        "    for num_col in numerical_cols:\n",
        "        sns.boxplot(x=cat_col, y=num_col, data=data)\n",
        "        plt.title(f'Box plot of {num_col} vs {cat_col}')\n",
        "        plt.xlabel(cat_col)\n",
        "        plt.ylabel(num_col)\n",
        "        plt.show()"
      ]
    },
    {
      "cell_type": "code",
      "execution_count": null,
      "metadata": {
        "id": "qdzfVgCuLvA7"
      },
      "outputs": [],
      "source": [
        "# Bar plots\n",
        "for cat_col in categorical_cols:\n",
        "    for num_col in numerical_cols:\n",
        "        sns.barplot(x=cat_col, y=num_col, data=data)\n",
        "        plt.title(f'Bar plot of {num_col} vs {cat_col}')\n",
        "        plt.xlabel(cat_col)\n",
        "        plt.ylabel(num_col)\n",
        "        plt.show()"
      ]
    }
  ],
  "metadata": {
    "colab": {
      "provenance": []
    },
    "kernelspec": {
      "display_name": "Python 3",
      "name": "python3"
    },
    "language_info": {
      "name": "python"
    }
  },
  "nbformat": 4,
  "nbformat_minor": 0
}
